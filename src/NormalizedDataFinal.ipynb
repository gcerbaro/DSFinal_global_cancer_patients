{
  "nbformat": 4,
  "nbformat_minor": 0,
  "metadata": {
    "colab": {
      "provenance": []
    },
    "kernelspec": {
      "name": "python3",
      "display_name": "Python 3"
    },
    "language_info": {
      "name": "python"
    }
  },
  "cells": [
    {
      "cell_type": "code",
      "execution_count": null,
      "metadata": {
        "collapsed": true,
        "id": "FzHpTK6VdvE1"
      },
      "outputs": [],
      "source": [
        "import pandas as pd\n",
        "from sklearn.preprocessing import MinMaxScaler\n",
        "import seaborn as sns\n",
        "import matplotlib.pyplot as plt\n",
        "\n",
        "arquivo = '/content/DSFinal_global_cancer_patients/dataset/global_cancer_patients_2015_2024.csv'\n",
        "\n",
        "df = pd.read_csv(arquivo)\n",
        "\n",
        "#Limpeza de valores nulos, duplicados e exclusao da coluna ID\n",
        "df = df.dropna()\n",
        "df = df.drop_duplicates()\n",
        "df = df.drop(columns=['Patient_ID'])\n",
        "\n",
        "'''\n",
        "ESSA PARTE AQUI PRA BAIXO PODE TIRAR\n",
        "'''\n",
        "\n",
        "#Verificacao de valores unicos\n",
        "print(\"\\nUnique Values for each non-numeric column:\\n\")\n",
        "df_temp = df.select_dtypes(exclude=['number'])\n",
        "df_temp['Year'] = df['Year']\n",
        "for c in df_temp.columns:\n",
        "    print(f\"{c}:\")\n",
        "    print(df[c].unique())\n",
        "    print('\\n')"
      ]
    },
    {
      "cell_type": "code",
      "source": [
        "# Remocao de valores irreais para propria descricao do dataset\n",
        "# Pessoa não pode ter sobrevivido mais do que sua idade\n",
        "df = df[df[\"Survival_Years\"] <= df[\"Age\"]]"
      ],
      "metadata": {
        "id": "w6ljYuTzG63h"
      },
      "execution_count": null,
      "outputs": []
    },
    {
      "cell_type": "code",
      "source": [
        "#Conversao de valores textuais para numericos\n",
        "# Uso de One-Hot Encoding para variaveis nominais e map para variavel ordinal em sequencia\n",
        "\n",
        "#Estagio do cancer\n",
        "cancer_stage_map = {\n",
        "    'Stage 0': 0,\n",
        "    'Stage I': 1,\n",
        "    'Stage II': 2,\n",
        "    'Stage III': 3,\n",
        "    'Stage IV': 4\n",
        "}\n",
        "\n",
        "df = pd.get_dummies(df, columns=[\n",
        "    'Gender', 'Country_Region', 'Cancer_Type'], drop_first=True)\n",
        "df['Cancer_Stage'] = df['Cancer_Stage'].map(cancer_stage_map)"
      ],
      "metadata": {
        "id": "AO-VTJZuetTH"
      },
      "execution_count": null,
      "outputs": []
    },
    {
      "cell_type": "code",
      "source": [
        "# Visualizacao dos dados numeros na busca por outliers\n",
        "df_numeric_cols = df.select_dtypes(include=['int64', 'float64'])\n",
        "df_numeric_cols = df_numeric_cols.drop(columns=['Year', 'Cancer_Stage'])\n",
        "\n",
        "'''\n",
        "ESSA EXIBICAO DE GRAFICOS AQUI TAMBEM PODE TIRAR\n",
        "USEI PRA VISUALIZAR OS OUTLIERS\n",
        "Se quiser deixar tambem fica bala\n",
        "'''\n",
        "for col in df_numeric_cols:\n",
        "    plt.figure(figsize=(8, 1.5))\n",
        "    sns.boxplot(data=df, x=col)\n",
        "    plt.title(f'{col} Boxplot')\n",
        "    plt.show()"
      ],
      "metadata": {
        "collapsed": true,
        "id": "989m2nlWjYVH"
      },
      "execution_count": null,
      "outputs": []
    },
    {
      "cell_type": "code",
      "source": [
        "# Remocao dos outliers baseado no IQR\n",
        "def clear_outliers(c):\n",
        "    Q1 = df[c].quantile(0.25)\n",
        "    Q3 = df[c].quantile(0.75)\n",
        "    IQR = Q3 - Q1\n",
        "    lower_limit = Q1 - 1.5 * IQR\n",
        "    upper_limit = Q3 + 1.5 * IQR\n",
        "\n",
        "    df_limpo = df[(df[c] >= lower_limit) & (df[c] <= upper_limit)]\n",
        "\n",
        "    print(f\"{df.shape[0] - df_limpo.shape[0]} Outlier values removed from '{c}'\")\n",
        "    return df_limpo"
      ],
      "metadata": {
        "collapsed": true,
        "id": "Z4xPjOvroiOs"
      },
      "execution_count": null,
      "outputs": []
    },
    {
      "cell_type": "code",
      "source": [
        "for c in df_numeric_cols:\n",
        "    df = clear_outliers(c)"
      ],
      "metadata": {
        "id": "HPfbzC8gp4HZ"
      },
      "execution_count": null,
      "outputs": []
    },
    {
      "cell_type": "code",
      "source": [
        "# Normalizacao dos dados com MixMaxScaler\n",
        "# Transforma dados numeros entre valores de 0 a 1\n",
        "scaler = MinMaxScaler()\n",
        "\n",
        "for c in df_numeric_cols:\n",
        "    df[c] = scaler.fit_transform(df[[c]])\n",
        "\n",
        "df"
      ],
      "metadata": {
        "id": "-oeUjmSztjCp"
      },
      "execution_count": null,
      "outputs": []
    },
    {
      "cell_type": "code",
      "source": [
        "import seaborn as sns\n",
        "import matplotlib.pyplot as plt\n",
        "\n",
        "df_temp = df.select_dtypes(include=['int64', 'float64'])\n",
        "\n",
        "correlation_matrix = df_temp.corr(numeric_only=True)\n",
        "\n",
        "plt.figure(figsize=(12, 8))\n",
        "sns.heatmap(correlation_matrix, annot=True, cmap=\"coolwarm\", fmt=\".2f\")\n",
        "plt.title(\"Matriz de Correlação\")\n",
        "plt.show()"
      ],
      "metadata": {
        "id": "5jAe74MoFEOc"
      },
      "execution_count": null,
      "outputs": []
    }
  ]
}